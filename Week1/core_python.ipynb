{
 "cells": [
  {
   "cell_type": "code",
   "execution_count": 1,
   "id": "5dc54aea",
   "metadata": {},
   "outputs": [
    {
     "name": "stdout",
     "output_type": "stream",
     "text": [
      "Integer:  10\n",
      "<class 'float'>\n",
      "Float:  3.14\n",
      "Complex:  (5+2j)\n"
     ]
    }
   ],
   "source": [
    "x=10\n",
    "print(\"Integer: \",x)\n",
    "\n",
    "y=3.14\n",
    "print(type(y))\n",
    "print(\"Float: \",y)\n",
    "\n",
    "z=5+2j\n",
    "print(\"Complex: \",z)"
   ]
  },
  {
   "cell_type": "code",
   "execution_count": 2,
   "id": "8fb104a3",
   "metadata": {},
   "outputs": [
    {
     "name": "stdout",
     "output_type": "stream",
     "text": [
      "Name:  Shaunak\n",
      "Name in Uppercase:  SHAUNAK\n",
      "Name in Lowercase:  shaunak\n",
      "Name Length:  7\n",
      "Name Repeated:  ShaunakShaunakShaunak\n",
      "Name Concatenated:  Shaunak Mishra\n",
      "First 3 characters of Name:  Sha\n",
      "Last 3 characters of Name:  nak\n",
      "Characters from index 1 to 3:  hau\n",
      "Is 'a' in Name?:  True\n"
     ]
    }
   ],
   "source": [
    "name=\"Shaunak\"\n",
    "print(\"Name: \",name)\n",
    "print(\"Name in Uppercase: \",name.upper())\n",
    "print(\"Name in Lowercase: \",name.lower())\n",
    "print(\"Name Length: \",len(name))\n",
    "print(\"Name Repeated: \",name*3)\n",
    "print(\"Name Concatenated: \",name+\" Mishra\")\n",
    "print(\"First 3 characters of Name: \",name[:3])\n",
    "print(\"Last 3 characters of Name: \",name[-3::])\n",
    "print(\"Characters from index 1 to 3: \",name[1:4])\n",
    "print(\"Is 'a' in Name?: \",'a' in name)"
   ]
  },
  {
   "cell_type": "code",
   "execution_count": 3,
   "id": "c4032f6f",
   "metadata": {},
   "outputs": [
    {
     "name": "stdout",
     "output_type": "stream",
     "text": [
      "Fruits List:  ['Apple', 'Banana', 'Mango', 'Orange']\n",
      "First Fruit:  Apple\n",
      "Fruits List after appending Grapes:  ['Apple', 'Banana', 'Mango', 'Orange', 'Grapes']\n",
      "Coordinates Tuple:  (10, 20)\n",
      "X Coordinate:  10\n",
      "Y Coordinate:  20\n",
      "Unique Numbers Set:  {1, 2, 3}\n",
      "Is 2 in Unique Numbers Set?:  True\n",
      "Person Dictionary:  {'name': 'Shaunak Mishra', 'age': 21, 'city': 'Bhubaneswar'}\n",
      "Person's Name:  Shaunak Mishra Person's Age:  21 Person's City:  Bhubaneswar\n"
     ]
    }
   ],
   "source": [
    "fruits=[\"Apple\",\"Banana\",\"Mango\",\"Orange\"]\n",
    "print(\"Fruits List: \",fruits)\n",
    "print(\"First Fruit: \",fruits[0])\n",
    "fruits.append(\"Grapes\")\n",
    "print(\"Fruits List after appending Grapes: \",fruits)\n",
    "\n",
    "coords=(10,20)\n",
    "print(\"Coordinates Tuple: \",coords)\n",
    "print(\"X Coordinate: \",coords[0])  \n",
    "print(\"Y Coordinate: \",coords[1])\n",
    "\n",
    "\n",
    "unique_nums = {1, 2, 3, 3}\n",
    "print(\"Unique Numbers Set: \",unique_nums)\n",
    "print(\"Is 2 in Unique Numbers Set?: \",2 in unique_nums)\n",
    "\n",
    "\n",
    "person={\n",
    "    \"name\":\"Shaunak Mishra\",\n",
    "    \"age\":21,\n",
    "    \"city\":\"Bhubaneswar\"\n",
    "}\n",
    "print(\"Person Dictionary: \",person)\n",
    "print(\"Person's Name: \",person[\"name\"],\"Person's Age: \",person[\"age\"],\"Person's City: \",person[\"city\"])"
   ]
  },
  {
   "cell_type": "code",
   "execution_count": null,
   "id": "a7941253",
   "metadata": {},
   "outputs": [
    {
     "name": "stdout",
     "output_type": "stream",
     "text": [
      "List:  ['Apple', 'Mango', 'Banana']\n",
      "First Element of List:  Apple\n",
      "Length:  4\n",
      "List :  ['Python', 'Java', 'C++']\n",
      "length of myList 0\n",
      "Modified List:  ['JavaScript', 'Ruby', 'Apple', 'Mango', 'Orange']\n",
      "['apple', 'banana', 'mango']\n",
      "['apple', 'banana', 'cherry', 'kiwi', 'mango']\n",
      "['mango', 'kiwi', 'cherry', 'banana', 'apple']\n",
      "['mango', 'kiwi', 'cherry', 'banana', 'apple']\n",
      "['mango', 'kiwi', 'cherry', 'banana', 'apple']\n",
      "['mango', 'kiwi', 'cherry', 'banana', 'apple']\n",
      "['mango', 'kiwi', 'cherry', 'banana', 'apple', 'mango', 'kiwi', 'cherry', 'banana', 'apple']\n",
      "2\n"
     ]
    },
    {
     "ename": "",
     "evalue": "",
     "output_type": "error",
     "traceback": [
      "\u001b[1;31mThe Kernel crashed while executing code in the current cell or a previous cell. \n",
      "\u001b[1;31mPlease review the code in the cell(s) to identify a possible cause of the failure. \n",
      "\u001b[1;31mClick <a href='https://aka.ms/vscodeJupyterKernelCrash'>here</a> for more info. \n",
      "\u001b[1;31mView Jupyter <a href='command:jupyter.viewOutput'>log</a> for further details."
     ]
    }
   ],
   "source": [
    "# List\n",
    "myList=[\"Apple\",\"Mango\",\"Banana\"]\n",
    "print(\"List: \",myList)\n",
    "print(\"First Element of List: \",myList[0])\n",
    "myList.append(\"Orange\")\n",
    "print(\"Length: \",len(myList))\n",
    "\n",
    "thisList= list((\"Python\",\"Java\",\"C++\"))\n",
    "print(\"List : \",thisList)\n",
    "\n",
    "lang=[\"Python\",\"Java\",\"C++\"]\n",
    "lang[1]=\"JavaScript\"\n",
    "lang.insert(2,\"Ruby\")\n",
    "\n",
    "lang.extend(myList)\n",
    "\n",
    "lang.remove(\"C++\")\n",
    "lang.pop(5)\n",
    "del lang[0]\n",
    "myList.clear()\n",
    "print(\"length of myList\",len(myList))\n",
    "del thisList\n",
    "print(\"Modified List: \",lang)\n",
    "\n",
    "fruits = [\"apple\", \"banana\", \"cherry\", \"kiwi\", \"mango\"]\n",
    "newlist = [x for x in fruits if \"a\" in x]\n",
    "\n",
    "print(newlist)\n",
    "\n",
    "\n",
    "fruits.sort()\n",
    "print(fruits)\n",
    "fruits.reverse()\n",
    "print(fruits)\n",
    "\n",
    "copyFruit=fruits.copy()\n",
    "print(copyFruit)\n",
    "\n",
    "copyFruit2=fruits[:]\n",
    "print(copyFruit2)\n",
    "\n",
    "copyListFruit= list(fruits)\n",
    "print(copyListFruit)\n",
    "\n",
    "ExtendedList=copyFruit+copyFruit2\n",
    "print(ExtendedList)\n",
    "\n",
    "x=ExtendedList.count(\"banana\") #count the occurence of an element in a list\n",
    "print(x)"
   ]
  },
  {
   "cell_type": "code",
   "execution_count": 5,
   "id": "15c8eaee",
   "metadata": {},
   "outputs": [
    {
     "name": "stdout",
     "output_type": "stream",
     "text": [
      "('Apple', 'Banana', 'Mango', 'Apple')\n",
      "<class 'tuple'>\n"
     ]
    }
   ],
   "source": [
    "#Tuple\n",
    "myTuple= (\"Apple\", \"Banana\",\"Mango\",\"Apple\")\n",
    "print(myTuple)\n",
    "len(myTuple)\n",
    "\n",
    "mySingleTuple=(\"Apple\",) #for single element tuple, comma is mandatory\n",
    "print(type(mySingleTuple))"
   ]
  },
  {
   "cell_type": "code",
   "execution_count": 6,
   "id": "1e6cd87f",
   "metadata": {},
   "outputs": [
    {
     "name": "stdout",
     "output_type": "stream",
     "text": [
      "You are an adult.\n"
     ]
    }
   ],
   "source": [
    "age=19\n",
    "if(age>=18):\n",
    "    print(\"You are an adult.\")\n",
    "elif(age<18 and age>0):\n",
    "    print(\"You are a minor.\")\n",
    "else:\n",
    "    print(\"Invalid age.\")"
   ]
  }
 ],
 "metadata": {
  "kernelspec": {
   "display_name": "Python 3",
   "language": "python",
   "name": "python3"
  },
  "language_info": {
   "codemirror_mode": {
    "name": "ipython",
    "version": 3
   },
   "file_extension": ".py",
   "mimetype": "text/x-python",
   "name": "python",
   "nbconvert_exporter": "python",
   "pygments_lexer": "ipython3",
   "version": "3.13.7"
  }
 },
 "nbformat": 4,
 "nbformat_minor": 5
}

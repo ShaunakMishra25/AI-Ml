{
 "cells": [
  {
   "cell_type": "code",
   "execution_count": null,
   "id": "191e5326",
   "metadata": {},
   "outputs": [],
   "source": [
    "# 1D array\n",
    "import numpy as np\n",
    "a = np.array([1,2,3])\n",
    "print(\"Array:\", a)\n",
    "\n",
    "# Range\n",
    "b = np.arange(0,10,2)\n",
    "print(\"Arange:\", b)\n",
    "\n",
    "# Linspace\n",
    "c = np.linspace(0,1,5)\n",
    "print(\"Linspace:\", c)\n",
    "\n",
    "# Zeros, Ones, Eye\n",
    "print(\"Zeros:\\n\", np.zeros((2,3)))\n",
    "print(\"Ones:\\n\", np.ones((2,3)))\n",
    "print(\"Identity Matrix:\\n\", np.eye(3))\n"
   ]
  },
  {
   "cell_type": "code",
   "execution_count": null,
   "id": "14a5f067",
   "metadata": {},
   "outputs": [],
   "source": [
    "arr = np.arange(10)\n",
    "print(\"Original array:\", arr)\n",
    "print(\"Element at index 3:\", arr[3])\n",
    "print(\"Slice 2:7:\", arr[2:7])\n",
    "print(\"Step slicing:\", arr[::2])\n",
    "print(\"Negative indexing:\", arr[-1])"
   ]
  },
  {
   "cell_type": "code",
   "execution_count": null,
   "id": "72d5fae3",
   "metadata": {},
   "outputs": [],
   "source": [
    "arr = np.arange(12)\n",
    "print(\"Original:\", arr)\n",
    "\n",
    "reshaped = arr.reshape(3,4)\n",
    "print(\"Reshaped:\\n\", reshaped)\n",
    "\n",
    "print(\"Flatten:\", reshaped.flatten())\n",
    "print(\"Transpose:\\n\", reshaped.T)"
   ]
  },
  {
   "cell_type": "code",
   "execution_count": null,
   "id": "28a1fe55",
   "metadata": {},
   "outputs": [],
   "source": [
    "mat = np.array([[1,2,3],[3,4,0],[5,6,0]])\n",
    "print(\"Matrix:\\n\", mat)\n",
    "print(\"Sum:\", np.sum(mat))\n",
    "print(\"Mean:\", np.mean(mat))\n",
    "print(\"Std Dev:\", np.std(mat))\n",
    "\n",
    "# Dot vs Matmul\n",
    "a = np.array([1,2,3])\n",
    "b = np.array([4,5,6])\n",
    "print(\"Dot product:\", np.dot(a,b))\n",
    "\n",
    "A = np.array([[1,2],[3,4]])\n",
    "B = np.array([[5,6],[7,8]])\n",
    "print(\"Matrix Multiplication:\\n\", np.matmul(A,B))"
   ]
  },
  {
   "cell_type": "code",
   "execution_count": null,
   "id": "59607b3f",
   "metadata": {},
   "outputs": [],
   "source": [
    "print(\"Random float [0,1):\", np.random.rand())\n",
    "print(\"Random normal:\", np.random.randn(3))\n",
    "print(\"Random integers:\", np.random.randint(1,10,5))\n",
    "print(\"Random choice:\", np.random.choice([1,2,3,4], size=2))"
   ]
  },
  {
   "cell_type": "code",
   "execution_count": null,
   "id": "d0b3ebaf",
   "metadata": {},
   "outputs": [],
   "source": [
    "#practice\n",
    "\n",
    "import numpy as np\n",
    "## Array Creation\n",
    "#Using np.arange, np.array, and np.eye to create arrays and matrices.\n",
    "\n",
    "# 1D array\n",
    "a=np.arange(10,21)\n",
    "print(\"Array:\", a)  \n",
    "\n",
    "#2*3 matrix\n",
    "mat= np.array([[1,2,3],[4,5,6]])\n",
    "print(\"Matrix:\\n\", mat)\n",
    "\n",
    "#3*3 identity matrix\n",
    "id_mat=np.eye(3)\n",
    "print(\"Identity Matrix:\\n\", id_mat)\n",
    "\n",
    "#2\n",
    "arr = np.array([5, 10, 15, 20, 25, 30])\n",
    "print(arr[2:5])\n",
    "print(arr)\n",
    "print(arr[-1])\n",
    "\n",
    "#matrix operations\n",
    "arr1=np.arange(1,13)\n",
    "arr2=arr1.reshape(3,4)\n",
    "print(\"Original:\\n\", arr2)\n",
    "print(\"Flatten:\", arr2.flatten())\n",
    "print(\"Transpose:\\n\", arr2.T)\n",
    "\n",
    "\n",
    "#Math operations\n",
    "mat = np.array([[1,2,3],[4,5,6],[7,8,9]])\n",
    "print(\"Sum of Matrix \",np.sum(mat))\n",
    "print(\"Mean of Matrix \",np.mean(mat))\n",
    "print(\"Standard Deviation of Matrix \",np.std(mat))\n",
    "#matrix multiplication\n",
    "print(\"Matrix Multiplication:\\n\", np.matmul(mat, mat))\n",
    "\n",
    "#Random modules\n",
    "print(\"Random normal:\", np.random.rand(5))\n",
    "print(\"Random integers:\", np.random.randint(10,50,3))\n",
    "#3*3 matrix with random number from normal distribution\n",
    "print(\"Random 3x3 matrix:\\n\", np.random.randn(3,3))\n",
    "#Randomly pick 2 elements from the list [10,20,30,40,50].\n",
    "print(\"Random choice:\", np.random.choice([10,20,30,40,50], size=2))"
   ]
  }
 ],
 "metadata": {
  "kernelspec": {
   "display_name": "Python 3",
   "language": "python",
   "name": "python3"
  },
  "language_info": {
   "codemirror_mode": {
    "name": "ipython",
    "version": 3
   },
   "file_extension": ".py",
   "mimetype": "text/x-python",
   "name": "python",
   "nbconvert_exporter": "python",
   "pygments_lexer": "ipython3",
   "version": "3.13.7"
  }
 },
 "nbformat": 4,
 "nbformat_minor": 5
}

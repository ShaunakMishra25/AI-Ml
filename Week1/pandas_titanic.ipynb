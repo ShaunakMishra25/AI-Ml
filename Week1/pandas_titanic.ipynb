{
 "cells": [
  {
   "cell_type": "code",
   "execution_count": null,
   "id": "d7efda34",
   "metadata": {},
   "outputs": [],
   "source": [
    "# Pandas Practice: Titanic Dataset\n",
    "#Goal: Learn Data Handling in Pandas - creation, cleaning, analysis, and exporting.\n",
    "import pandas as pd\n",
    "import numpy as np\n",
    "import seaborn as sns  # For loading Titanic dataset easily\n",
    "\n",
    "titanic = sns.load_dataset('titanic')\n",
    "#titanic = pd.read_csv('./Titanic_Dataset.csv')\n",
    "\n",
    "#chech first 5 rows\n",
    "print(titanic.head())"
   ]
  },
  {
   "cell_type": "code",
   "execution_count": null,
   "id": "3de81386",
   "metadata": {},
   "outputs": [],
   "source": [
    "#info about dataset\n",
    "titanic.info()\n",
    "\n",
    "# summary statistics\n",
    "print(titanic.describe())\n",
    "\n",
    "# check missing values\n",
    "print(titanic.isnull().sum())"
   ]
  },
  {
   "cell_type": "code",
   "execution_count": null,
   "id": "c38810fd",
   "metadata": {},
   "outputs": [],
   "source": [
    "#Fill missing age values with median age\n",
    "titanic['age'].fillna(titanic['age'].median())\n",
    "\n",
    "# Drop 'deck' column due to high missing values\n",
    "titanic= titanic.drop(columns=['deck'])\n",
    "\n",
    "#Fill missing embarked values with mode\n",
    "titanic['embarked'].fillna(titanic['embarked'].mode()[0])"
   ]
  },
  {
   "cell_type": "code",
   "execution_count": 18,
   "id": "13aa22b8",
   "metadata": {},
   "outputs": [
    {
     "name": "stdout",
     "output_type": "stream",
     "text": [
      "Passenger by class:\n",
      " pclass\n",
      "3    491\n",
      "1    216\n",
      "2    184\n",
      "Name: count, dtype: int64\n",
      "\n",
      "Survival rate by gender: \n",
      " sex\n",
      "female    0.742038\n",
      "male      0.188908\n",
      "Name: survived, dtype: float64\n",
      "\n",
      "Average age by class:\n",
      " pclass\n",
      "1    38.233441\n",
      "2    29.877630\n",
      "3    25.140620\n",
      "Name: age, dtype: float64\n",
      "\n",
      "Pivot table for survival rate by class and gender:\n",
      " sex       female      male\n",
      "pclass                    \n",
      "1       0.968085  0.368852\n",
      "2       0.921053  0.157407\n",
      "3       0.500000  0.135447\n"
     ]
    }
   ],
   "source": [
    "#Data Analysis\n",
    "\n",
    "#count passengers by class\n",
    "print(\"Passenger by class:\\n\", titanic['pclass'].value_counts())\n",
    "\n",
    "#Survival rate by gender\n",
    "print(\"\\nSurvival rate by gender: \\n\", titanic.groupby('sex')['survived'].mean())\n",
    "\n",
    "#Average age by class\n",
    "print(\"\\nAverage age by class:\\n\", titanic.groupby('pclass')['age'].mean())\n",
    "\n",
    "#Pivot table for survival rate by class and gender\n",
    "pivot_table =titanic.pivot_table(index='pclass',columns='sex',values='survived',aggfunc='mean')\n",
    "print(\"\\nPivot table for survival rate by class and gender:\\n\", pivot_table)\n",
    "\n"
   ]
  },
  {
   "cell_type": "code",
   "execution_count": 20,
   "id": "ec370dc4",
   "metadata": {},
   "outputs": [
    {
     "name": "stdout",
     "output_type": "stream",
     "text": [
      "Dataset exported successfully.\n"
     ]
    }
   ],
   "source": [
    "#Export cleaned dataset\n",
    "titanic.to_csv('cleaned_titanic.csv', index=False)\n",
    "\n",
    "#Export pivot table\n",
    "pivot_table.to_csv('titanic_pivot_table.csv')\n",
    "\n",
    "print(\"Dataset exported successfully.\")"
   ]
  }
 ],
 "metadata": {
  "kernelspec": {
   "display_name": "Python 3",
   "language": "python",
   "name": "python3"
  },
  "language_info": {
   "codemirror_mode": {
    "name": "ipython",
    "version": 3
   },
   "file_extension": ".py",
   "mimetype": "text/x-python",
   "name": "python",
   "nbconvert_exporter": "python",
   "pygments_lexer": "ipython3",
   "version": "3.13.7"
  }
 },
 "nbformat": 4,
 "nbformat_minor": 5
}
